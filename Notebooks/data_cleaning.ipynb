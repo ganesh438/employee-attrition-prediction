{
 "cells": [
  {
   "cell_type": "code",
   "execution_count": 10,
   "id": "d36e9e85-fe9f-469f-bf1d-64e13e3214b5",
   "metadata": {},
   "outputs": [],
   "source": [
    "import pandas as pd\n",
    "from sklearn.preprocessing import LabelEncoder\n"
   ]
  },
  {
   "cell_type": "code",
   "execution_count": 11,
   "id": "92204bbb-9726-49e3-ac4b-10fc7c246cac",
   "metadata": {},
   "outputs": [
    {
     "data": {
      "text/plain": [
       "(1470, 35)"
      ]
     },
     "execution_count": 11,
     "metadata": {},
     "output_type": "execute_result"
    }
   ],
   "source": [
    "df = pd.read_csv('C:/Users/ganes/OneDrive/Desktop/Individual  Projects/employee-attrition-prediction/Data/raw/WA_Fn-UseC_-HR-Employee-Attrition.csv')\n",
    "df.shape\n"
   ]
  },
  {
   "cell_type": "code",
   "execution_count": 12,
   "id": "a4730cef-ec09-45ca-a85f-d878f29867c5",
   "metadata": {},
   "outputs": [],
   "source": [
    "df.drop(['EmployeeCount', 'EmployeeNumber', 'Over18', 'StandardHours'], axis=1, inplace=True)\n"
   ]
  },
  {
   "cell_type": "code",
   "execution_count": 13,
   "id": "7f8c1f9d-9fbc-4e16-86df-925f45f8bc54",
   "metadata": {},
   "outputs": [],
   "source": [
    "df['Attrition'] = df['Attrition'].map({'Yes': 1, 'No': 0})\n"
   ]
  },
  {
   "cell_type": "code",
   "execution_count": 14,
   "id": "06832818-01ad-489d-80a0-cd8f5176367c",
   "metadata": {},
   "outputs": [],
   "source": [
    "df['Gender'] = df['Gender'].map({'Male': 1, 'Female': 0})\n",
    "df['OverTime'] = df['OverTime'].map({'Yes': 1, 'No': 0})\n"
   ]
  },
  {
   "cell_type": "code",
   "execution_count": 15,
   "id": "7df4243b-adcd-44f0-883c-be8dface76fe",
   "metadata": {},
   "outputs": [],
   "source": [
    "label_cols = df.select_dtypes(include='object').columns.tolist()\n",
    "\n",
    "le = LabelEncoder()\n",
    "for col in label_cols:\n",
    "    df[col] = le.fit_transform(df[col])\n"
   ]
  },
  {
   "cell_type": "code",
   "execution_count": 16,
   "id": "d555e88d-4022-4244-9228-039d2d1ec633",
   "metadata": {},
   "outputs": [
    {
     "name": "stdout",
     "output_type": "stream",
     "text": [
      "✅ Cleaned data saved to data/cleaned/cleaned_employee_data.csv\n"
     ]
    }
   ],
   "source": [
    "df.to_csv('C:/Users/ganes/OneDrive/Desktop/Individual  Projects/employee-attrition-prediction/Data/cleaned/cleaned_employee_data.csv', index=False)\n",
    "print(\"✅ Cleaned data saved to data/cleaned/cleaned_employee_data.csv\")\n"
   ]
  },
  {
   "cell_type": "code",
   "execution_count": null,
   "id": "0f183d64-febd-4592-b4ef-bc088b5a6f85",
   "metadata": {},
   "outputs": [],
   "source": []
  }
 ],
 "metadata": {
  "kernelspec": {
   "display_name": "Python 3 (ipykernel)",
   "language": "python",
   "name": "python3"
  },
  "language_info": {
   "codemirror_mode": {
    "name": "ipython",
    "version": 3
   },
   "file_extension": ".py",
   "mimetype": "text/x-python",
   "name": "python",
   "nbconvert_exporter": "python",
   "pygments_lexer": "ipython3",
   "version": "3.12.6"
  }
 },
 "nbformat": 4,
 "nbformat_minor": 5
}
